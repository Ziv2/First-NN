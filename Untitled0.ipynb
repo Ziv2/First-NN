{
  "nbformat": 4,
  "nbformat_minor": 0,
  "metadata": {
    "colab": {
      "name": "Untitled0.ipynb",
      "version": "0.3.2",
      "provenance": [],
      "include_colab_link": true
    },
    "kernelspec": {
      "name": "python3",
      "display_name": "Python 3"
    }
  },
  "cells": [
    {
      "cell_type": "markdown",
      "metadata": {
        "id": "view-in-github",
        "colab_type": "text"
      },
      "source": [
        "[View in Colaboratory](https://colab.research.google.com/github/Ziv2/First-NN/blob/master/Untitled0.ipynb)"
      ]
    },
    {
      "metadata": {
        "id": "hstEdhYCdffr",
        "colab_type": "code",
        "colab": {}
      },
      "cell_type": "code",
      "source": [
        "import tensorflow as tf   #deep learning Neural Networks\n",
        "import numpy as np   #number manipulation in python\n",
        "import pandas as pd   #import dataset  \n",
        "import matplotlib.pyplot as plt #plot\n"
      ],
      "execution_count": 0,
      "outputs": []
    },
    {
      "metadata": {
        "id": "igKvH5ehdjYJ",
        "colab_type": "text"
      },
      "cell_type": "markdown",
      "source": [
        "#Defining a Multilayer Perceptron Model"
      ]
    },
    {
      "metadata": {
        "id": "BxRCHu72dpPw",
        "colab_type": "code",
        "colab": {}
      },
      "cell_type": "code",
      "source": [
        "def model(x, weights, bias):\n",
        "\tlayer_1 = tf.add(tf.matmul(x, weights[\"hidden\"]), bias[\"hidden\"])\n",
        "\tlayer_1 = tf.nn.relu(layer_1) #rectified linear unit  (activation function) (inserts aspect of non linearity)\n",
        "    \n",
        "\tlayer_2 = tf.add(tf.matmul(layer_1, weights[\"hidden2\"]), bias[\"hidden2\"])\n",
        "\tlayer_2 = tf.nn.relu(layer_2)\n",
        "  \n",
        "\tlayer_3 = tf.add(tf.matmul(layer_2, weights[\"hidden3\"]), bias[\"hidden3\"])\n",
        "\tlayer_3 = tf.nn.relu(layer_3)\n",
        "  \n",
        "\t#layer_4 = tf.add(tf.matmul(layer_3, weights[\"hidden4\"]), bias[\"hidden4\"])\n",
        "\t#layer_4 = tf.nn.relu(layer_4)\n",
        "  \n",
        "\toutput_layer = tf.matmul(layer_3, weights[\"output\"]) + bias[\"output\"]\n",
        "  \n",
        "\treturn output_layer"
      ],
      "execution_count": 0,
      "outputs": []
    },
    {
      "metadata": {
        "id": "_QNhOGl8dr2I",
        "colab_type": "text"
      },
      "cell_type": "markdown",
      "source": [
        ""
      ]
    },
    {
      "metadata": {
        "id": "fyoDkF5BdsJA",
        "colab_type": "code",
        "colab": {
          "base_uri": "https://localhost:8080/",
          "height": 85
        },
        "outputId": "5c306796-cf7d-45d7-c570-a0fd97981b18"
      },
      "cell_type": "code",
      "source": [
        "df = pd.read_csv(\"https://raw.githubusercontent.com/yoavalon/TensorflowClassification/master/patient.csv\")\n",
        "df.columns = ['bp_sys', 'bp_dy', 'oxy', 'pul', 'sug', 'cri' ]\n",
        "\n",
        "train_X = df[['bp_sys', 'bp_dy', 'oxy', 'pul']].iloc[0:9600,]\n",
        "#train_X = df[['bp_sys', 'bp_dy', 'oxy', 'pul', 'sug']].iloc[0:9600,]\n",
        "train_Y = np.eye(5)[df[['cri']].iloc[0:9600,]].reshape(9600,5)\n",
        "\n",
        "test_X = df[['bp_sys', 'bp_dy', 'oxy', 'pul']].iloc[9600:2000,]\n",
        "#test_X = df[['bp_sys', 'bp_dy', 'oxy', 'pul', 'sug']].iloc[9600:2000,]\n",
        "test_Y = np.eye(5)[df[['cri']].iloc[9600:10000,]].reshape(399,5)\n",
        "\n",
        "\n",
        "print(train_X.shape)\n",
        "print(train_Y.shape)\n",
        "\n",
        "\n",
        "print(test_X.shape)\n",
        "print(test_Y.shape)\n"
      ],
      "execution_count": 3,
      "outputs": [
        {
          "output_type": "stream",
          "text": [
            "(9600, 4)\n",
            "(9600, 5)\n",
            "(0, 4)\n",
            "(399, 5)\n"
          ],
          "name": "stdout"
        }
      ]
    },
    {
      "metadata": {
        "id": "XgTfXY06dzyg",
        "colab_type": "text"
      },
      "cell_type": "markdown",
      "source": [
        "\n",
        "#hyperparameter"
      ]
    },
    {
      "metadata": {
        "id": "pyfQB2R1d0dw",
        "colab_type": "code",
        "colab": {}
      },
      "cell_type": "code",
      "source": [
        "learning_rate = 0.01\n",
        "training_epochs = 10000\n",
        "display_steps = 50"
      ],
      "execution_count": 0,
      "outputs": []
    },
    {
      "metadata": {
        "id": "ee6TUQZGd5Nw",
        "colab_type": "text"
      },
      "cell_type": "markdown",
      "source": [
        "#Network parameters   #dimensions"
      ]
    },
    {
      "metadata": {
        "id": "cjtUDEHsd56A",
        "colab_type": "code",
        "colab": {}
      },
      "cell_type": "code",
      "source": [
        "n_input = 4\n",
        "#n_input = 5\n",
        "n_hidden = 10\n",
        "n_output = 5"
      ],
      "execution_count": 0,
      "outputs": []
    },
    {
      "metadata": {
        "id": "wGeLgR9gd8Dw",
        "colab_type": "text"
      },
      "cell_type": "markdown",
      "source": [
        "#Graph Nodes"
      ]
    },
    {
      "metadata": {
        "id": "8t0kV1qkd94R",
        "colab_type": "code",
        "colab": {}
      },
      "cell_type": "code",
      "source": [
        "X = tf.placeholder(\"float\", [None, n_input])\n",
        "Y = tf.placeholder(\"float\", [None, n_output])"
      ],
      "execution_count": 0,
      "outputs": []
    },
    {
      "metadata": {
        "id": "9fSft54Bd_hR",
        "colab_type": "text"
      },
      "cell_type": "markdown",
      "source": [
        "\t\t\n",
        "#Weights and Biases"
      ]
    },
    {
      "metadata": {
        "id": "W20pUfDHeB6A",
        "colab_type": "code",
        "colab": {}
      },
      "cell_type": "code",
      "source": [
        "weights = {\n",
        "\t\"hidden\" : tf.Variable(tf.random_normal([n_input, n_hidden]), name=\"weight_hidden\"),\n",
        "\t\"hidden2\" : tf.Variable(tf.random_normal([n_hidden, n_hidden]), name=\"weight_hidden2\"),\n",
        "\t\"hidden3\" : tf.Variable(tf.random_normal([n_hidden, n_hidden]), name=\"weight_hidden3\"),\n",
        "\t#\"hidden4\" : tf.Variable(tf.random_normal([n_hidden, n_hidden]), name=\"weight_hidden4\"),\n",
        "\t\"output\" : tf.Variable(tf.random_normal([n_hidden, n_output]), name=\"weight_output\")\n",
        "}\n",
        "\n",
        "bias = {\n",
        "\t\"hidden\" : tf.Variable(tf.random_normal([n_hidden]), name=\"bias_hidden\"),\n",
        "  \"hidden2\" : tf.Variable(tf.random_normal([n_hidden]), name=\"bias_hidden2\"),\n",
        "  \"hidden3\" : tf.Variable(tf.random_normal([n_hidden]), name=\"bias_hidden3\"),\n",
        "  #\"hidden4\" : tf.Variable(tf.random_normal([n_hidden]), name=\"bias_hidden4\"),\n",
        "\t\"output\" : tf.Variable(tf.random_normal([n_output]), name=\"bias_output\")\n",
        "}\t"
      ],
      "execution_count": 0,
      "outputs": []
    },
    {
      "metadata": {
        "id": "6HUfoT0NeFYZ",
        "colab_type": "text"
      },
      "cell_type": "markdown",
      "source": [
        "#Define model"
      ]
    },
    {
      "metadata": {
        "id": "3wDHTNJxeJ7B",
        "colab_type": "code",
        "colab": {
          "base_uri": "https://localhost:8080/",
          "height": 153
        },
        "outputId": "fdc86c5b-b867-4d1c-c2b8-137fbee26faa"
      },
      "cell_type": "code",
      "source": [
        "pred = model(X, weights, bias) \n",
        "\n",
        "#dense = tf.layers.dense(inputs=pool2_flat, units=1024, activation=tf.nn.relu)\n",
        "\n",
        "#Define loss and optimizer\n",
        "cost = tf.reduce_mean(tf.nn.softmax_cross_entropy_with_logits(logits=pred, labels=Y))\n",
        "optimizer = tf.train.AdamOptimizer(learning_rate).minimize(cost)\n"
      ],
      "execution_count": 9,
      "outputs": [
        {
          "output_type": "stream",
          "text": [
            "WARNING:tensorflow:From <ipython-input-9-882a9779773e>:6: softmax_cross_entropy_with_logits (from tensorflow.python.ops.nn_ops) is deprecated and will be removed in a future version.\n",
            "Instructions for updating:\n",
            "\n",
            "Future major versions of TensorFlow will allow gradients to flow\n",
            "into the labels input on backprop by default.\n",
            "\n",
            "See @{tf.nn.softmax_cross_entropy_with_logits_v2}.\n",
            "\n"
          ],
          "name": "stdout"
        }
      ]
    },
    {
      "metadata": {
        "id": "GWO7ZJ2oeK0J",
        "colab_type": "text"
      },
      "cell_type": "markdown",
      "source": [
        "#Initializing global variables\n"
      ]
    },
    {
      "metadata": {
        "id": "HrGVXR4qeNSo",
        "colab_type": "code",
        "colab": {
          "base_uri": "https://localhost:8080/",
          "height": 1438
        },
        "outputId": "5f7ea2d8-378d-4a6e-dffa-da41804f7e27"
      },
      "cell_type": "code",
      "source": [
        "init = tf.global_variables_initializer()\n",
        "\n",
        "lossList = []\n",
        "\n",
        "with tf.Session() as sess:\n",
        "\tsess.run(init)\n",
        "\n",
        "\tfor epoch in range(training_epochs):\t\t\n",
        "\t\t_, c = sess.run([optimizer, cost], feed_dict={X: train_X, Y: train_Y})\t\t\n",
        "\t\tif(epoch + 1) % display_steps == 0:\n",
        "\t\t\tlossList.append(c)\n",
        "\t\t\tprint(\"Epoch: \", (epoch+1), \"Cost: \", c)\n",
        "      \n",
        "\t\n",
        "\ttest_result = sess.run(pred, feed_dict={X: train_X})\n",
        "\tcorrect_pred = tf.equal(tf.argmax(test_result, 1), tf.argmax(train_Y, 1))\n",
        "\n",
        "\taccuracy = tf.reduce_mean(tf.cast(correct_pred, \"float\"))\n",
        "\tprint(\"Accuracy:\", accuracy.eval({X: test_X, Y: test_Y}))\n",
        "  "
      ],
      "execution_count": 10,
      "outputs": [
        {
          "output_type": "stream",
          "text": [
            "Epoch:  50 Cost:  97.70582\n",
            "Epoch:  100 Cost:  17.526989\n",
            "Epoch:  150 Cost:  6.7956324\n",
            "Epoch:  200 Cost:  3.067376\n",
            "Epoch:  250 Cost:  2.308297\n",
            "Epoch:  300 Cost:  1.872393\n",
            "Epoch:  350 Cost:  1.51773\n",
            "Epoch:  400 Cost:  1.2315718\n",
            "Epoch:  450 Cost:  0.9963316\n",
            "Epoch:  500 Cost:  0.818123\n",
            "Epoch:  550 Cost:  0.6809431\n",
            "Epoch:  600 Cost:  0.99526906\n",
            "Epoch:  650 Cost:  0.6056172\n",
            "Epoch:  700 Cost:  0.57270414\n",
            "Epoch:  750 Cost:  0.6595783\n",
            "Epoch:  800 Cost:  0.9581734\n",
            "Epoch:  850 Cost:  4.271911\n",
            "Epoch:  900 Cost:  0.63126045\n",
            "Epoch:  950 Cost:  0.6552529\n",
            "Epoch:  1000 Cost:  0.810473\n",
            "Epoch:  1050 Cost:  0.64114684\n",
            "Epoch:  1100 Cost:  1.851982\n",
            "Epoch:  1150 Cost:  1.6878084\n",
            "Epoch:  1200 Cost:  1.5871933\n",
            "Epoch:  1250 Cost:  0.550239\n",
            "Epoch:  1300 Cost:  0.72633606\n",
            "Epoch:  1350 Cost:  1.0433041\n",
            "Epoch:  1400 Cost:  0.54967207\n",
            "Epoch:  1450 Cost:  1.182909\n"
          ],
          "name": "stdout"
        },
        {
          "output_type": "error",
          "ename": "KeyboardInterrupt",
          "evalue": "ignored",
          "traceback": [
            "\u001b[0;31m---------------------------------------------------------------------------\u001b[0m",
            "\u001b[0;31mKeyboardInterrupt\u001b[0m                         Traceback (most recent call last)",
            "\u001b[0;32m<ipython-input-10-7de06c7fc925>\u001b[0m in \u001b[0;36m<module>\u001b[0;34m()\u001b[0m\n\u001b[1;32m      7\u001b[0m \u001b[0;34m\u001b[0m\u001b[0m\n\u001b[1;32m      8\u001b[0m         \u001b[0;32mfor\u001b[0m \u001b[0mepoch\u001b[0m \u001b[0;32min\u001b[0m \u001b[0mrange\u001b[0m\u001b[0;34m(\u001b[0m\u001b[0mtraining_epochs\u001b[0m\u001b[0;34m)\u001b[0m\u001b[0;34m:\u001b[0m\u001b[0;34m\u001b[0m\u001b[0m\n\u001b[0;32m----> 9\u001b[0;31m                 \u001b[0m_\u001b[0m\u001b[0;34m,\u001b[0m \u001b[0mc\u001b[0m \u001b[0;34m=\u001b[0m \u001b[0msess\u001b[0m\u001b[0;34m.\u001b[0m\u001b[0mrun\u001b[0m\u001b[0;34m(\u001b[0m\u001b[0;34m[\u001b[0m\u001b[0moptimizer\u001b[0m\u001b[0;34m,\u001b[0m \u001b[0mcost\u001b[0m\u001b[0;34m]\u001b[0m\u001b[0;34m,\u001b[0m \u001b[0mfeed_dict\u001b[0m\u001b[0;34m=\u001b[0m\u001b[0;34m{\u001b[0m\u001b[0mX\u001b[0m\u001b[0;34m:\u001b[0m \u001b[0mtrain_X\u001b[0m\u001b[0;34m,\u001b[0m \u001b[0mY\u001b[0m\u001b[0;34m:\u001b[0m \u001b[0mtrain_Y\u001b[0m\u001b[0;34m}\u001b[0m\u001b[0;34m)\u001b[0m\u001b[0;34m\u001b[0m\u001b[0m\n\u001b[0m\u001b[1;32m     10\u001b[0m                 \u001b[0;32mif\u001b[0m\u001b[0;34m(\u001b[0m\u001b[0mepoch\u001b[0m \u001b[0;34m+\u001b[0m \u001b[0;36m1\u001b[0m\u001b[0;34m)\u001b[0m \u001b[0;34m%\u001b[0m \u001b[0mdisplay_steps\u001b[0m \u001b[0;34m==\u001b[0m \u001b[0;36m0\u001b[0m\u001b[0;34m:\u001b[0m\u001b[0;34m\u001b[0m\u001b[0m\n\u001b[1;32m     11\u001b[0m                         \u001b[0mlossList\u001b[0m\u001b[0;34m.\u001b[0m\u001b[0mappend\u001b[0m\u001b[0;34m(\u001b[0m\u001b[0mc\u001b[0m\u001b[0;34m)\u001b[0m\u001b[0;34m\u001b[0m\u001b[0m\n",
            "\u001b[0;32m/usr/local/lib/python3.6/dist-packages/tensorflow/python/client/session.py\u001b[0m in \u001b[0;36mrun\u001b[0;34m(self, fetches, feed_dict, options, run_metadata)\u001b[0m\n\u001b[1;32m    898\u001b[0m     \u001b[0;32mtry\u001b[0m\u001b[0;34m:\u001b[0m\u001b[0;34m\u001b[0m\u001b[0m\n\u001b[1;32m    899\u001b[0m       result = self._run(None, fetches, feed_dict, options_ptr,\n\u001b[0;32m--> 900\u001b[0;31m                          run_metadata_ptr)\n\u001b[0m\u001b[1;32m    901\u001b[0m       \u001b[0;32mif\u001b[0m \u001b[0mrun_metadata\u001b[0m\u001b[0;34m:\u001b[0m\u001b[0;34m\u001b[0m\u001b[0m\n\u001b[1;32m    902\u001b[0m         \u001b[0mproto_data\u001b[0m \u001b[0;34m=\u001b[0m \u001b[0mtf_session\u001b[0m\u001b[0;34m.\u001b[0m\u001b[0mTF_GetBuffer\u001b[0m\u001b[0;34m(\u001b[0m\u001b[0mrun_metadata_ptr\u001b[0m\u001b[0;34m)\u001b[0m\u001b[0;34m\u001b[0m\u001b[0m\n",
            "\u001b[0;32m/usr/local/lib/python3.6/dist-packages/tensorflow/python/client/session.py\u001b[0m in \u001b[0;36m_run\u001b[0;34m(self, handle, fetches, feed_dict, options, run_metadata)\u001b[0m\n\u001b[1;32m   1133\u001b[0m     \u001b[0;32mif\u001b[0m \u001b[0mfinal_fetches\u001b[0m \u001b[0;32mor\u001b[0m \u001b[0mfinal_targets\u001b[0m \u001b[0;32mor\u001b[0m \u001b[0;34m(\u001b[0m\u001b[0mhandle\u001b[0m \u001b[0;32mand\u001b[0m \u001b[0mfeed_dict_tensor\u001b[0m\u001b[0;34m)\u001b[0m\u001b[0;34m:\u001b[0m\u001b[0;34m\u001b[0m\u001b[0m\n\u001b[1;32m   1134\u001b[0m       results = self._do_run(handle, final_targets, final_fetches,\n\u001b[0;32m-> 1135\u001b[0;31m                              feed_dict_tensor, options, run_metadata)\n\u001b[0m\u001b[1;32m   1136\u001b[0m     \u001b[0;32melse\u001b[0m\u001b[0;34m:\u001b[0m\u001b[0;34m\u001b[0m\u001b[0m\n\u001b[1;32m   1137\u001b[0m       \u001b[0mresults\u001b[0m \u001b[0;34m=\u001b[0m \u001b[0;34m[\u001b[0m\u001b[0;34m]\u001b[0m\u001b[0;34m\u001b[0m\u001b[0m\n",
            "\u001b[0;32m/usr/local/lib/python3.6/dist-packages/tensorflow/python/client/session.py\u001b[0m in \u001b[0;36m_do_run\u001b[0;34m(self, handle, target_list, fetch_list, feed_dict, options, run_metadata)\u001b[0m\n\u001b[1;32m   1314\u001b[0m     \u001b[0;32mif\u001b[0m \u001b[0mhandle\u001b[0m \u001b[0;32mis\u001b[0m \u001b[0;32mNone\u001b[0m\u001b[0;34m:\u001b[0m\u001b[0;34m\u001b[0m\u001b[0m\n\u001b[1;32m   1315\u001b[0m       return self._do_call(_run_fn, feeds, fetches, targets, options,\n\u001b[0;32m-> 1316\u001b[0;31m                            run_metadata)\n\u001b[0m\u001b[1;32m   1317\u001b[0m     \u001b[0;32melse\u001b[0m\u001b[0;34m:\u001b[0m\u001b[0;34m\u001b[0m\u001b[0m\n\u001b[1;32m   1318\u001b[0m       \u001b[0;32mreturn\u001b[0m \u001b[0mself\u001b[0m\u001b[0;34m.\u001b[0m\u001b[0m_do_call\u001b[0m\u001b[0;34m(\u001b[0m\u001b[0m_prun_fn\u001b[0m\u001b[0;34m,\u001b[0m \u001b[0mhandle\u001b[0m\u001b[0;34m,\u001b[0m \u001b[0mfeeds\u001b[0m\u001b[0;34m,\u001b[0m \u001b[0mfetches\u001b[0m\u001b[0;34m)\u001b[0m\u001b[0;34m\u001b[0m\u001b[0m\n",
            "\u001b[0;32m/usr/local/lib/python3.6/dist-packages/tensorflow/python/client/session.py\u001b[0m in \u001b[0;36m_do_call\u001b[0;34m(self, fn, *args)\u001b[0m\n\u001b[1;32m   1320\u001b[0m   \u001b[0;32mdef\u001b[0m \u001b[0m_do_call\u001b[0m\u001b[0;34m(\u001b[0m\u001b[0mself\u001b[0m\u001b[0;34m,\u001b[0m \u001b[0mfn\u001b[0m\u001b[0;34m,\u001b[0m \u001b[0;34m*\u001b[0m\u001b[0margs\u001b[0m\u001b[0;34m)\u001b[0m\u001b[0;34m:\u001b[0m\u001b[0;34m\u001b[0m\u001b[0m\n\u001b[1;32m   1321\u001b[0m     \u001b[0;32mtry\u001b[0m\u001b[0;34m:\u001b[0m\u001b[0;34m\u001b[0m\u001b[0m\n\u001b[0;32m-> 1322\u001b[0;31m       \u001b[0;32mreturn\u001b[0m \u001b[0mfn\u001b[0m\u001b[0;34m(\u001b[0m\u001b[0;34m*\u001b[0m\u001b[0margs\u001b[0m\u001b[0;34m)\u001b[0m\u001b[0;34m\u001b[0m\u001b[0m\n\u001b[0m\u001b[1;32m   1323\u001b[0m     \u001b[0;32mexcept\u001b[0m \u001b[0merrors\u001b[0m\u001b[0;34m.\u001b[0m\u001b[0mOpError\u001b[0m \u001b[0;32mas\u001b[0m \u001b[0me\u001b[0m\u001b[0;34m:\u001b[0m\u001b[0;34m\u001b[0m\u001b[0m\n\u001b[1;32m   1324\u001b[0m       \u001b[0mmessage\u001b[0m \u001b[0;34m=\u001b[0m \u001b[0mcompat\u001b[0m\u001b[0;34m.\u001b[0m\u001b[0mas_text\u001b[0m\u001b[0;34m(\u001b[0m\u001b[0me\u001b[0m\u001b[0;34m.\u001b[0m\u001b[0mmessage\u001b[0m\u001b[0;34m)\u001b[0m\u001b[0;34m\u001b[0m\u001b[0m\n",
            "\u001b[0;32m/usr/local/lib/python3.6/dist-packages/tensorflow/python/client/session.py\u001b[0m in \u001b[0;36m_run_fn\u001b[0;34m(feed_dict, fetch_list, target_list, options, run_metadata)\u001b[0m\n\u001b[1;32m   1305\u001b[0m       \u001b[0mself\u001b[0m\u001b[0;34m.\u001b[0m\u001b[0m_extend_graph\u001b[0m\u001b[0;34m(\u001b[0m\u001b[0;34m)\u001b[0m\u001b[0;34m\u001b[0m\u001b[0m\n\u001b[1;32m   1306\u001b[0m       return self._call_tf_sessionrun(\n\u001b[0;32m-> 1307\u001b[0;31m           options, feed_dict, fetch_list, target_list, run_metadata)\n\u001b[0m\u001b[1;32m   1308\u001b[0m \u001b[0;34m\u001b[0m\u001b[0m\n\u001b[1;32m   1309\u001b[0m     \u001b[0;32mdef\u001b[0m \u001b[0m_prun_fn\u001b[0m\u001b[0;34m(\u001b[0m\u001b[0mhandle\u001b[0m\u001b[0;34m,\u001b[0m \u001b[0mfeed_dict\u001b[0m\u001b[0;34m,\u001b[0m \u001b[0mfetch_list\u001b[0m\u001b[0;34m)\u001b[0m\u001b[0;34m:\u001b[0m\u001b[0;34m\u001b[0m\u001b[0m\n",
            "\u001b[0;32m/usr/local/lib/python3.6/dist-packages/tensorflow/python/client/session.py\u001b[0m in \u001b[0;36m_call_tf_sessionrun\u001b[0;34m(self, options, feed_dict, fetch_list, target_list, run_metadata)\u001b[0m\n\u001b[1;32m   1407\u001b[0m       return tf_session.TF_SessionRun_wrapper(\n\u001b[1;32m   1408\u001b[0m           \u001b[0mself\u001b[0m\u001b[0;34m.\u001b[0m\u001b[0m_session\u001b[0m\u001b[0;34m,\u001b[0m \u001b[0moptions\u001b[0m\u001b[0;34m,\u001b[0m \u001b[0mfeed_dict\u001b[0m\u001b[0;34m,\u001b[0m \u001b[0mfetch_list\u001b[0m\u001b[0;34m,\u001b[0m \u001b[0mtarget_list\u001b[0m\u001b[0;34m,\u001b[0m\u001b[0;34m\u001b[0m\u001b[0m\n\u001b[0;32m-> 1409\u001b[0;31m           run_metadata)\n\u001b[0m\u001b[1;32m   1410\u001b[0m     \u001b[0;32melse\u001b[0m\u001b[0;34m:\u001b[0m\u001b[0;34m\u001b[0m\u001b[0m\n\u001b[1;32m   1411\u001b[0m       \u001b[0;32mwith\u001b[0m \u001b[0merrors\u001b[0m\u001b[0;34m.\u001b[0m\u001b[0mraise_exception_on_not_ok_status\u001b[0m\u001b[0;34m(\u001b[0m\u001b[0;34m)\u001b[0m \u001b[0;32mas\u001b[0m \u001b[0mstatus\u001b[0m\u001b[0;34m:\u001b[0m\u001b[0;34m\u001b[0m\u001b[0m\n",
            "\u001b[0;31mKeyboardInterrupt\u001b[0m: "
          ]
        }
      ]
    },
    {
      "metadata": {
        "id": "TwNbywyzeSHo",
        "colab_type": "text"
      },
      "cell_type": "markdown",
      "source": [
        "# plot Loss Graph\n"
      ]
    },
    {
      "metadata": {
        "id": "EI5fjUN0eT_C",
        "colab_type": "code",
        "colab": {}
      },
      "cell_type": "code",
      "source": [
        "plt.plot(lossList)\n",
        "plt.title('Loss')\n",
        "plt.ylabel('loss')\n",
        "plt.xlabel('epoch')\n",
        "plt.show()"
      ],
      "execution_count": 0,
      "outputs": []
    }
  ]
}